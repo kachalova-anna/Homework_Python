{
 "cells": [
  {
   "cell_type": "markdown",
   "id": "7a9e29fb",
   "metadata": {},
   "source": [
    "Домашнее задание 2. Основы Python"
   ]
  },
  {
   "cell_type": "markdown",
   "id": "1b610de8",
   "metadata": {},
   "source": [
    "Задание 1"
   ]
  },
  {
   "cell_type": "code",
   "execution_count": 4,
   "id": "16bc8980",
   "metadata": {},
   "outputs": [
    {
     "name": "stdout",
     "output_type": "stream",
     "text": [
      "Фраза_2 длинее Фразы_1\n"
     ]
    }
   ],
   "source": [
    "phrase_1 = 'Когда снежинку, что легко летает'\n",
    "phrase_2 = 'Как звездочка, упавшая скользя...'\n",
    "\n",
    "if len(phrase_1) > len(phrase_2):\n",
    "    print('Фраза_1 длинее Фразы_2')\n",
    "else:\n",
    "    print('Фраза_2 длинее Фразы_1')"
   ]
  },
  {
   "cell_type": "markdown",
   "id": "5f79250b",
   "metadata": {},
   "source": [
    "Задание 2"
   ]
  },
  {
   "cell_type": "code",
   "execution_count": 11,
   "id": "e7a25632",
   "metadata": {},
   "outputs": [
    {
     "name": "stdout",
     "output_type": "stream",
     "text": [
      "Введите год 2016\n",
      "Високосный год\n"
     ]
    }
   ],
   "source": [
    "user_input = int(input('Введите год '))\n",
    "\n",
    "if user_input > 1582:\n",
    "    if user_input % 400 == 0:\n",
    "        print('Високосный год')\n",
    "    elif user_input % 4 == 0 and user_input % 100 != 0:\n",
    "        print('Високосный год')\n",
    "    else:\n",
    "        print('Обычный год')\n",
    "else:\n",
    "    if user_input % 4 == 0 and user_input != 4:\n",
    "        print('Високосный год')"
   ]
  },
  {
   "cell_type": "markdown",
   "id": "8cd2bd92",
   "metadata": {},
   "source": [
    "Задание 3"
   ]
  },
  {
   "cell_type": "code",
   "execution_count": 16,
   "id": "039d7f2e",
   "metadata": {},
   "outputs": [
    {
     "name": "stdout",
     "output_type": "stream",
     "text": [
      "Введите месяц сентябрь\n",
      "Введите дату 01\n",
      "Ваш знак зодиака: Дева\n"
     ]
    }
   ],
   "source": [
    "month = input('Введите месяц ')\n",
    "date = int(input('Введите дату '))\n",
    "\n",
    "if (date >= 20 and date <=31 and month == \"январь\") or (date >= 1 and date <= 18 and month == \"февраль\"):\n",
    "    print('Ваш знак зодиака: Водолей')\n",
    "elif (date >= 19 and date <=29 and month == \"февраль\") or (date >= 1 and date <= 20 and month == \"март\"):\n",
    "    print('Ваш знак зодиака: Рыбы')\n",
    "elif (date >= 21 and date <=31 and month == \"март\") or (date >= 1 and date <= 19 and month == \"апрель\"):\n",
    "    print('Ваш знак зодиака: Овен')\n",
    "elif (date >= 20 and date <=31 and month == \"апрель\") or (date >= 1 and date <= 20 and month == \"май\"):\n",
    "    print('Ваш знак зодиака: Телец')\n",
    "elif (date >= 21 and date <=31 and month == \"май\") or (date >= 1 and date <= 20 and month == \"июнь\"):\n",
    "    print('Ваш знак зодиака: Близнецы')\n",
    "elif (date >= 21 and date <=31 and month == \"июнь\") or (date >= 1 and date <= 22 and month == \"июль\"):\n",
    "    print('Ваш знак зодиака: Рак')\n",
    "elif (date >= 23 and date <=31 and month == \"июль\") or (date >= 1 and date <= 22 and month == \"август\"):\n",
    "    print('Ваш знак зодиака: Лев')\n",
    "elif (date >= 23 and date <=31 and month == \"август\") or (date >= 1 and date <= 22 and month == \"сентябрь\"):\n",
    "    print('Ваш знак зодиака: Дева')\n",
    "elif (date >= 23 and date <=31 and month == \"сентябрь\") or (date >= 1 and date <= 22 and month == \"октябрь\"):\n",
    "    print('Ваш знак зодиака: Весы')\n",
    "elif (date >= 23 and date <=31 and month == \"октябрь\") or (date >= 1 and date <= 21 and month == \"ноябрь\"):\n",
    "    print('Ваш знак зодиака: Скорпион')\n",
    "elif (date >= 22 and date <=31 and month == \"ноябрь\") or (date >= 1 and date <= 21 and month == \"декабрь\"):\n",
    "    print('Ваш знак зодиака: Стрелец')\n",
    "elif (date >= 22 and date <=31 and month == \"декабрь\") or (date >= 1 and date <= 19 and month == \"январь\"):\n",
    "    print('Ваш знак зодиака: Козерог')"
   ]
  },
  {
   "cell_type": "markdown",
   "id": "91de5cce",
   "metadata": {},
   "source": [
    "Задание 4"
   ]
  },
  {
   "cell_type": "code",
   "execution_count": 33,
   "id": "ebfc3b1c",
   "metadata": {},
   "outputs": [
    {
     "name": "stdout",
     "output_type": "stream",
     "text": [
      "Введите ширину: 80\n",
      "Введите длину: 150\n",
      "Введите высоту: 5\n",
      "Коробка №3\n"
     ]
    }
   ],
   "source": [
    "width = int(input('Введите ширину: '))\n",
    "length = int(input('Введите длину: '))\n",
    "height = int(input('Введите высоту: '))\n",
    "\n",
    "if width < 15 and length < 15 and height < 15:\n",
    "    print('Коробка №1')\n",
    "elif (15 < width < 50 or 15 < length < 50 or 15 < height < 50) and length < 200:\n",
    "    print('Коробка №2')\n",
    "elif length > 200:\n",
    "    print('Упаковка для лыж')\n",
    "else:\n",
    "    print('Коробка №3')\n",
    "        "
   ]
  }
 ],
 "metadata": {
  "kernelspec": {
   "display_name": "Python 3",
   "language": "python",
   "name": "python3"
  },
  "language_info": {
   "codemirror_mode": {
    "name": "ipython",
    "version": 3
   },
   "file_extension": ".py",
   "mimetype": "text/x-python",
   "name": "python",
   "nbconvert_exporter": "python",
   "pygments_lexer": "ipython3",
   "version": "3.8.8"
  }
 },
 "nbformat": 4,
 "nbformat_minor": 5
}
